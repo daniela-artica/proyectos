{
 "cells": [
  {
   "cell_type": "markdown",
   "metadata": {},
   "source": [
    "# Proyecto análisis de comportamiento de clientes de Megaline"
   ]
  },
  {
   "cell_type": "markdown",
   "metadata": {},
   "source": [
    "Trabajas como analista para el operador de telecomunicaciones Megaline. La empresa ofrece a sus clientes dos tarifas de prepago, Surf y Ultimate. El departamento comercial quiere saber cuál de las tarifas genera más ingresos para poder ajustar el presupuesto de publicidad.\n",
    "\n",
    "Vas a realizar un análisis preliminar de las tarifas basado en una selección de clientes relativamente pequeña. Tendrás los datos de 500 clientes de Megaline: quiénes son los clientes, de dónde son, qué tarifa usan, así como la cantidad de llamadas que hicieron y los mensajes de texto que enviaron en 2018. Tu trabajo es analizar el comportamiento de los clientes y determinar qué tarifa de prepago genera más ingresos."
   ]
  },
  {
   "cell_type": "markdown",
   "metadata": {},
   "source": [
    "## Inicialización"
   ]
  },
  {
   "cell_type": "code",
   "execution_count": 1,
   "metadata": {},
   "outputs": [],
   "source": [
    "import pandas as pd # Cargar todas las librerías\n",
    "import numpy as np\n",
    "import seaborn as sns\n",
    "from scipy import stats as st\n",
    "from matplotlib import pyplot as plt"
   ]
  },
  {
   "cell_type": "markdown",
   "metadata": {},
   "source": [
    "## Cargar datos"
   ]
  },
  {
   "cell_type": "code",
   "execution_count": 9,
   "metadata": {},
   "outputs": [],
   "source": [
    "megaline_calls= pd.read_csv(\"./megaline_calls.csv\")# Carga los archivos de datos en diferentes DataFrames\n",
    "megaline_internet= pd.read_csv(\"./megaline_internet.csv\")\n",
    "megaline_messages=pd.read_csv(\"./megaline_messages.csv\")\n",
    "megaline_plans=pd.read_csv(\"./megaline_plans.csv\")\n",
    "megaline_users=pd.read_csv(\"./megaline_users.csv\")\n"
   ]
  },
  {
   "cell_type": "markdown",
   "metadata": {},
   "source": [
    "## Preparar los datos"
   ]
  },
  {
   "cell_type": "markdown",
   "metadata": {},
   "source": [
    "## Tarifas"
   ]
  },
  {
   "cell_type": "code",
   "execution_count": 10,
   "metadata": {},
   "outputs": [
    {
     "name": "stdout",
     "output_type": "stream",
     "text": [
      "<class 'pandas.core.frame.DataFrame'>\n",
      "RangeIndex: 2 entries, 0 to 1\n",
      "Data columns (total 8 columns):\n",
      " #   Column                 Non-Null Count  Dtype  \n",
      "---  ------                 --------------  -----  \n",
      " 0   messages_included      2 non-null      int64  \n",
      " 1   mb_per_month_included  2 non-null      int64  \n",
      " 2   minutes_included       2 non-null      int64  \n",
      " 3   usd_monthly_pay        2 non-null      int64  \n",
      " 4   usd_per_gb             2 non-null      int64  \n",
      " 5   usd_per_message        2 non-null      float64\n",
      " 6   usd_per_minute         2 non-null      float64\n",
      " 7   plan_name              2 non-null      object \n",
      "dtypes: float64(2), int64(5), object(1)\n",
      "memory usage: 260.0+ bytes\n"
     ]
    }
   ],
   "source": [
    "megaline_plans.info()# Imprime la información general/resumida sobre el DataFrame de las tarifas\n"
   ]
  },
  {
   "cell_type": "code",
   "execution_count": 11,
   "metadata": {},
   "outputs": [
    {
     "data": {
      "text/html": [
       "<div>\n",
       "<style scoped>\n",
       "    .dataframe tbody tr th:only-of-type {\n",
       "        vertical-align: middle;\n",
       "    }\n",
       "\n",
       "    .dataframe tbody tr th {\n",
       "        vertical-align: top;\n",
       "    }\n",
       "\n",
       "    .dataframe thead th {\n",
       "        text-align: right;\n",
       "    }\n",
       "</style>\n",
       "<table border=\"1\" class=\"dataframe\">\n",
       "  <thead>\n",
       "    <tr style=\"text-align: right;\">\n",
       "      <th></th>\n",
       "      <th>messages_included</th>\n",
       "      <th>mb_per_month_included</th>\n",
       "      <th>minutes_included</th>\n",
       "      <th>usd_monthly_pay</th>\n",
       "      <th>usd_per_gb</th>\n",
       "      <th>usd_per_message</th>\n",
       "      <th>usd_per_minute</th>\n",
       "      <th>plan_name</th>\n",
       "    </tr>\n",
       "  </thead>\n",
       "  <tbody>\n",
       "    <tr>\n",
       "      <th>0</th>\n",
       "      <td>50</td>\n",
       "      <td>15360</td>\n",
       "      <td>500</td>\n",
       "      <td>20</td>\n",
       "      <td>10</td>\n",
       "      <td>0.03</td>\n",
       "      <td>0.03</td>\n",
       "      <td>surf</td>\n",
       "    </tr>\n",
       "    <tr>\n",
       "      <th>1</th>\n",
       "      <td>1000</td>\n",
       "      <td>30720</td>\n",
       "      <td>3000</td>\n",
       "      <td>70</td>\n",
       "      <td>7</td>\n",
       "      <td>0.01</td>\n",
       "      <td>0.01</td>\n",
       "      <td>ultimate</td>\n",
       "    </tr>\n",
       "  </tbody>\n",
       "</table>\n",
       "</div>"
      ],
      "text/plain": [
       "   messages_included  mb_per_month_included  minutes_included  \\\n",
       "0                 50                  15360               500   \n",
       "1               1000                  30720              3000   \n",
       "\n",
       "   usd_monthly_pay  usd_per_gb  usd_per_message  usd_per_minute plan_name  \n",
       "0               20          10             0.03            0.03      surf  \n",
       "1               70           7             0.01            0.01  ultimate  "
      ]
     },
     "execution_count": 11,
     "metadata": {},
     "output_type": "execute_result"
    }
   ],
   "source": [
    "megaline_plans.head()# Imprime una muestra de los datos para las tarifas\n"
   ]
  },
  {
   "cell_type": "markdown",
   "metadata": {},
   "source": [
    "No se observan problemas en los datos, ni datos ausentes. "
   ]
  },
  {
   "cell_type": "markdown",
   "metadata": {},
   "source": [
    "## Enriquecer los datos"
   ]
  },
  {
   "cell_type": "code",
   "execution_count": 12,
   "metadata": {},
   "outputs": [],
   "source": [
    "megaline_plans[\"gb_per_month_included\"]=megaline_plans[\"mb_per_month_included\"]/1024"
   ]
  },
  {
   "cell_type": "markdown",
   "metadata": {},
   "source": [
    "## Usuarios/as"
   ]
  },
  {
   "cell_type": "code",
   "execution_count": 13,
   "metadata": {},
   "outputs": [
    {
     "name": "stdout",
     "output_type": "stream",
     "text": [
      "<class 'pandas.core.frame.DataFrame'>\n",
      "RangeIndex: 500 entries, 0 to 499\n",
      "Data columns (total 8 columns):\n",
      " #   Column      Non-Null Count  Dtype \n",
      "---  ------      --------------  ----- \n",
      " 0   user_id     500 non-null    int64 \n",
      " 1   first_name  500 non-null    object\n",
      " 2   last_name   500 non-null    object\n",
      " 3   age         500 non-null    int64 \n",
      " 4   city        500 non-null    object\n",
      " 5   reg_date    500 non-null    object\n",
      " 6   plan        500 non-null    object\n",
      " 7   churn_date  34 non-null     object\n",
      "dtypes: int64(2), object(6)\n",
      "memory usage: 31.4+ KB\n"
     ]
    }
   ],
   "source": [
    "megaline_users.info()# Imprime la información general/resumida sobre el DataFrame de usuarios"
   ]
  },
  {
   "cell_type": "code",
   "execution_count": 14,
   "metadata": {},
   "outputs": [
    {
     "data": {
      "text/html": [
       "<div>\n",
       "<style scoped>\n",
       "    .dataframe tbody tr th:only-of-type {\n",
       "        vertical-align: middle;\n",
       "    }\n",
       "\n",
       "    .dataframe tbody tr th {\n",
       "        vertical-align: top;\n",
       "    }\n",
       "\n",
       "    .dataframe thead th {\n",
       "        text-align: right;\n",
       "    }\n",
       "</style>\n",
       "<table border=\"1\" class=\"dataframe\">\n",
       "  <thead>\n",
       "    <tr style=\"text-align: right;\">\n",
       "      <th></th>\n",
       "      <th>user_id</th>\n",
       "      <th>first_name</th>\n",
       "      <th>last_name</th>\n",
       "      <th>age</th>\n",
       "      <th>city</th>\n",
       "      <th>reg_date</th>\n",
       "      <th>plan</th>\n",
       "      <th>churn_date</th>\n",
       "    </tr>\n",
       "  </thead>\n",
       "  <tbody>\n",
       "    <tr>\n",
       "      <th>0</th>\n",
       "      <td>1000</td>\n",
       "      <td>Anamaria</td>\n",
       "      <td>Bauer</td>\n",
       "      <td>45</td>\n",
       "      <td>Atlanta-Sandy Springs-Roswell, GA MSA</td>\n",
       "      <td>2018-12-24</td>\n",
       "      <td>ultimate</td>\n",
       "      <td>NaN</td>\n",
       "    </tr>\n",
       "    <tr>\n",
       "      <th>1</th>\n",
       "      <td>1001</td>\n",
       "      <td>Mickey</td>\n",
       "      <td>Wilkerson</td>\n",
       "      <td>28</td>\n",
       "      <td>Seattle-Tacoma-Bellevue, WA MSA</td>\n",
       "      <td>2018-08-13</td>\n",
       "      <td>surf</td>\n",
       "      <td>NaN</td>\n",
       "    </tr>\n",
       "    <tr>\n",
       "      <th>2</th>\n",
       "      <td>1002</td>\n",
       "      <td>Carlee</td>\n",
       "      <td>Hoffman</td>\n",
       "      <td>36</td>\n",
       "      <td>Las Vegas-Henderson-Paradise, NV MSA</td>\n",
       "      <td>2018-10-21</td>\n",
       "      <td>surf</td>\n",
       "      <td>NaN</td>\n",
       "    </tr>\n",
       "    <tr>\n",
       "      <th>3</th>\n",
       "      <td>1003</td>\n",
       "      <td>Reynaldo</td>\n",
       "      <td>Jenkins</td>\n",
       "      <td>52</td>\n",
       "      <td>Tulsa, OK MSA</td>\n",
       "      <td>2018-01-28</td>\n",
       "      <td>surf</td>\n",
       "      <td>NaN</td>\n",
       "    </tr>\n",
       "    <tr>\n",
       "      <th>4</th>\n",
       "      <td>1004</td>\n",
       "      <td>Leonila</td>\n",
       "      <td>Thompson</td>\n",
       "      <td>40</td>\n",
       "      <td>Seattle-Tacoma-Bellevue, WA MSA</td>\n",
       "      <td>2018-05-23</td>\n",
       "      <td>surf</td>\n",
       "      <td>NaN</td>\n",
       "    </tr>\n",
       "  </tbody>\n",
       "</table>\n",
       "</div>"
      ],
      "text/plain": [
       "   user_id first_name  last_name  age                                   city  \\\n",
       "0     1000   Anamaria      Bauer   45  Atlanta-Sandy Springs-Roswell, GA MSA   \n",
       "1     1001     Mickey  Wilkerson   28        Seattle-Tacoma-Bellevue, WA MSA   \n",
       "2     1002     Carlee    Hoffman   36   Las Vegas-Henderson-Paradise, NV MSA   \n",
       "3     1003   Reynaldo    Jenkins   52                          Tulsa, OK MSA   \n",
       "4     1004    Leonila   Thompson   40        Seattle-Tacoma-Bellevue, WA MSA   \n",
       "\n",
       "     reg_date      plan churn_date  \n",
       "0  2018-12-24  ultimate        NaN  \n",
       "1  2018-08-13      surf        NaN  \n",
       "2  2018-10-21      surf        NaN  \n",
       "3  2018-01-28      surf        NaN  \n",
       "4  2018-05-23      surf        NaN  "
      ]
     },
     "execution_count": 14,
     "metadata": {},
     "output_type": "execute_result"
    }
   ],
   "source": [
    "megaline_users.head()# Imprime una muestra de datos para usuarios\n"
   ]
  },
  {
   "cell_type": "code",
   "execution_count": 15,
   "metadata": {},
   "outputs": [
    {
     "data": {
      "text/plain": [
       "0"
      ]
     },
     "execution_count": 15,
     "metadata": {},
     "output_type": "execute_result"
    }
   ],
   "source": [
    "megaline_users.duplicated().sum()\n"
   ]
  },
  {
   "cell_type": "markdown",
   "metadata": {},
   "source": [
    "Al llamar al método describe(), se puede notar que el dataframe contiene los datos de 500 usuarios y la edad promedio de estos es de 45 años. Por otra parte, no se observan datos duplicados. Sin embargo, se puede ver que existen datos ausentes en la columna churn date. Estos tendrían que ser reemplazados por otro valor, ya que, si se eliminan, se podría alterar el análisis posterior. Además la columna reg_date debería estar en formato de fecha datetime en caso se necesite hacer un análisis con esos datos."
   ]
  },
  {
   "cell_type": "markdown",
   "metadata": {},
   "source": [
    "### Corregir los datos"
   ]
  },
  {
   "cell_type": "code",
   "execution_count": 16,
   "metadata": {},
   "outputs": [
    {
     "name": "stdout",
     "output_type": "stream",
     "text": [
      "<class 'pandas.core.frame.DataFrame'>\n",
      "RangeIndex: 500 entries, 0 to 499\n",
      "Data columns (total 8 columns):\n",
      " #   Column      Non-Null Count  Dtype         \n",
      "---  ------      --------------  -----         \n",
      " 0   user_id     500 non-null    object        \n",
      " 1   first_name  500 non-null    object        \n",
      " 2   last_name   500 non-null    object        \n",
      " 3   age         500 non-null    int64         \n",
      " 4   city        500 non-null    object        \n",
      " 5   reg_date    500 non-null    datetime64[ns]\n",
      " 6   plan        500 non-null    object        \n",
      " 7   churn_date  500 non-null    object        \n",
      "dtypes: datetime64[ns](1), int64(1), object(6)\n",
      "memory usage: 31.4+ KB\n"
     ]
    },
    {
     "name": "stderr",
     "output_type": "stream",
     "text": [
      "C:\\Users\\steph\\AppData\\Local\\Temp\\ipykernel_8876\\2517996380.py:1: FutureWarning: A value is trying to be set on a copy of a DataFrame or Series through chained assignment using an inplace method.\n",
      "The behavior will change in pandas 3.0. This inplace method will never work because the intermediate object on which we are setting values always behaves as a copy.\n",
      "\n",
      "For example, when doing 'df[col].method(value, inplace=True)', try using 'df.method({col: value}, inplace=True)' or df[col] = df[col].method(value) instead, to perform the operation inplace on the original object.\n",
      "\n",
      "\n",
      "  megaline_users[\"churn_date\"].fillna(\"in use\",inplace=True)\n"
     ]
    }
   ],
   "source": [
    "megaline_users[\"churn_date\"].fillna(\"in use\",inplace=True)\n",
    "megaline_users[\"user_id\"]=megaline_users[\"user_id\"].astype(\"object\")\n",
    "\n",
    "megaline_users[\"reg_date\"]=pd.to_datetime(megaline_users[\"reg_date\"])\n",
    "megaline_users.info()"
   ]
  },
  {
   "cell_type": "markdown",
   "metadata": {},
   "source": [
    "## Llamadas"
   ]
  },
  {
   "cell_type": "code",
   "execution_count": 17,
   "metadata": {},
   "outputs": [
    {
     "name": "stdout",
     "output_type": "stream",
     "text": [
      "<class 'pandas.core.frame.DataFrame'>\n",
      "RangeIndex: 137735 entries, 0 to 137734\n",
      "Data columns (total 4 columns):\n",
      " #   Column     Non-Null Count   Dtype  \n",
      "---  ------     --------------   -----  \n",
      " 0   id         137735 non-null  object \n",
      " 1   user_id    137735 non-null  int64  \n",
      " 2   call_date  137735 non-null  object \n",
      " 3   duration   137735 non-null  float64\n",
      "dtypes: float64(1), int64(1), object(2)\n",
      "memory usage: 4.2+ MB\n"
     ]
    }
   ],
   "source": [
    "megaline_calls.info()# Imprime la información general/resumida sobre el DataFrame de las llamadas\n"
   ]
  },
  {
   "cell_type": "code",
   "execution_count": 18,
   "metadata": {},
   "outputs": [
    {
     "name": "stdout",
     "output_type": "stream",
     "text": [
      "         id  user_id   call_date  duration\n",
      "0   1000_93     1000  2018-12-27      8.52\n",
      "1  1000_145     1000  2018-12-27     13.66\n",
      "2  1000_247     1000  2018-12-27     14.48\n",
      "3  1000_309     1000  2018-12-28      5.76\n",
      "4  1000_380     1000  2018-12-30      4.22\n"
     ]
    }
   ],
   "source": [
    "print(megaline_calls.head())# Imprime una muestra de datos para las llamadas"
   ]
  },
  {
   "cell_type": "code",
   "execution_count": 19,
   "metadata": {},
   "outputs": [
    {
     "data": {
      "text/plain": [
       "0"
      ]
     },
     "execution_count": 19,
     "metadata": {},
     "output_type": "execute_result"
    }
   ],
   "source": [
    "megaline_calls.duplicated().sum()"
   ]
  },
  {
   "cell_type": "code",
   "execution_count": 20,
   "metadata": {},
   "outputs": [
    {
     "data": {
      "text/html": [
       "<div>\n",
       "<style scoped>\n",
       "    .dataframe tbody tr th:only-of-type {\n",
       "        vertical-align: middle;\n",
       "    }\n",
       "\n",
       "    .dataframe tbody tr th {\n",
       "        vertical-align: top;\n",
       "    }\n",
       "\n",
       "    .dataframe thead th {\n",
       "        text-align: right;\n",
       "    }\n",
       "</style>\n",
       "<table border=\"1\" class=\"dataframe\">\n",
       "  <thead>\n",
       "    <tr style=\"text-align: right;\">\n",
       "      <th></th>\n",
       "      <th>user_id</th>\n",
       "      <th>duration</th>\n",
       "    </tr>\n",
       "  </thead>\n",
       "  <tbody>\n",
       "    <tr>\n",
       "      <th>count</th>\n",
       "      <td>137735.000000</td>\n",
       "      <td>137735.000000</td>\n",
       "    </tr>\n",
       "    <tr>\n",
       "      <th>mean</th>\n",
       "      <td>1247.658046</td>\n",
       "      <td>6.745927</td>\n",
       "    </tr>\n",
       "    <tr>\n",
       "      <th>std</th>\n",
       "      <td>139.416268</td>\n",
       "      <td>5.839241</td>\n",
       "    </tr>\n",
       "    <tr>\n",
       "      <th>min</th>\n",
       "      <td>1000.000000</td>\n",
       "      <td>0.000000</td>\n",
       "    </tr>\n",
       "    <tr>\n",
       "      <th>25%</th>\n",
       "      <td>1128.000000</td>\n",
       "      <td>1.290000</td>\n",
       "    </tr>\n",
       "    <tr>\n",
       "      <th>50%</th>\n",
       "      <td>1247.000000</td>\n",
       "      <td>5.980000</td>\n",
       "    </tr>\n",
       "    <tr>\n",
       "      <th>75%</th>\n",
       "      <td>1365.000000</td>\n",
       "      <td>10.690000</td>\n",
       "    </tr>\n",
       "    <tr>\n",
       "      <th>max</th>\n",
       "      <td>1499.000000</td>\n",
       "      <td>37.600000</td>\n",
       "    </tr>\n",
       "  </tbody>\n",
       "</table>\n",
       "</div>"
      ],
      "text/plain": [
       "             user_id       duration\n",
       "count  137735.000000  137735.000000\n",
       "mean     1247.658046       6.745927\n",
       "std       139.416268       5.839241\n",
       "min      1000.000000       0.000000\n",
       "25%      1128.000000       1.290000\n",
       "50%      1247.000000       5.980000\n",
       "75%      1365.000000      10.690000\n",
       "max      1499.000000      37.600000"
      ]
     },
     "execution_count": 20,
     "metadata": {},
     "output_type": "execute_result"
    }
   ],
   "source": [
    "megaline_calls.describe()"
   ]
  },
  {
   "cell_type": "markdown",
   "metadata": {},
   "source": [
    "El tipo de datos de la columna user_id está como entero, pero sería mejor que sea de tipo object ya que no se pueden hacer cálculos con los números de usuario.Igualmente, la columna call_date debería tener formato de fecha. Por otro lado, no se observan datos duplicados ni ausentes y al usar el método describe() se puede notar que la duración promedio de las llamadas individuales es de 6,7 minutos. Sin embargo, debido a que la empresa redondea la duración de las llamadas de segundos a minutos sería bueno redondear la duración de cada llamada. "
   ]
  },
  {
   "cell_type": "markdown",
   "metadata": {},
   "source": [
    "### Corregir los datos"
   ]
  },
  {
   "cell_type": "code",
   "execution_count": 21,
   "metadata": {},
   "outputs": [
    {
     "name": "stdout",
     "output_type": "stream",
     "text": [
      "<class 'pandas.core.frame.DataFrame'>\n",
      "RangeIndex: 137735 entries, 0 to 137734\n",
      "Data columns (total 4 columns):\n",
      " #   Column     Non-Null Count   Dtype         \n",
      "---  ------     --------------   -----         \n",
      " 0   id         137735 non-null  object        \n",
      " 1   user_id    137735 non-null  object        \n",
      " 2   call_date  137735 non-null  datetime64[ns]\n",
      " 3   duration   137735 non-null  float64       \n",
      "dtypes: datetime64[ns](1), float64(1), object(2)\n",
      "memory usage: 4.2+ MB\n"
     ]
    }
   ],
   "source": [
    "megaline_calls[\"user_id\"]=megaline_calls[\"user_id\"].astype(\"object\")\n",
    "\n",
    "megaline_calls[\"call_date\"]=pd.to_datetime(megaline_calls[\"call_date\"])\n",
    "megaline_calls.info()"
   ]
  },
  {
   "cell_type": "markdown",
   "metadata": {},
   "source": [
    "### Enriquecer los datos"
   ]
  },
  {
   "cell_type": "code",
   "execution_count": 22,
   "metadata": {},
   "outputs": [
    {
     "name": "stdout",
     "output_type": "stream",
     "text": [
      "         id user_id  call_date  duration  month\n",
      "0   1000_93    1000 2018-12-27       9.0     12\n",
      "1  1000_145    1000 2018-12-27      14.0     12\n",
      "2  1000_247    1000 2018-12-27      15.0     12\n",
      "3  1000_309    1000 2018-12-28       6.0     12\n",
      "4  1000_380    1000 2018-12-30       5.0     12\n"
     ]
    }
   ],
   "source": [
    "megaline_calls[\"month\"]=megaline_calls[\"call_date\"].dt.month\n",
    "\n",
    "megaline_calls[\"duration\"]=np.ceil(megaline_calls[\"duration\"])\n",
    "print(megaline_calls.head())"
   ]
  },
  {
   "cell_type": "markdown",
   "metadata": {},
   "source": [
    "## Mensajes"
   ]
  },
  {
   "cell_type": "code",
   "execution_count": 23,
   "metadata": {},
   "outputs": [
    {
     "name": "stdout",
     "output_type": "stream",
     "text": [
      "<class 'pandas.core.frame.DataFrame'>\n",
      "RangeIndex: 76051 entries, 0 to 76050\n",
      "Data columns (total 3 columns):\n",
      " #   Column        Non-Null Count  Dtype \n",
      "---  ------        --------------  ----- \n",
      " 0   id            76051 non-null  object\n",
      " 1   user_id       76051 non-null  int64 \n",
      " 2   message_date  76051 non-null  object\n",
      "dtypes: int64(1), object(2)\n",
      "memory usage: 1.7+ MB\n"
     ]
    }
   ],
   "source": [
    "megaline_messages.info()# Imprime la información general/resumida sobre el DataFrame de los mensajes\n"
   ]
  },
  {
   "cell_type": "markdown",
   "metadata": {},
   "source": [
    "El tipo de datos de la columna user_id está como entero, pero sería mejor que sea de tipo object ya que no se pueden hacer cálculos con los números de usuario. Asimismo, la columna message_date debería ser del tipo datetime. Finalmente, no se observan datos ausentes ni duplicados."
   ]
  },
  {
   "cell_type": "markdown",
   "metadata": {},
   "source": [
    "### Corregir los datos"
   ]
  },
  {
   "cell_type": "code",
   "execution_count": 24,
   "metadata": {},
   "outputs": [
    {
     "name": "stdout",
     "output_type": "stream",
     "text": [
      "<class 'pandas.core.frame.DataFrame'>\n",
      "RangeIndex: 76051 entries, 0 to 76050\n",
      "Data columns (total 3 columns):\n",
      " #   Column        Non-Null Count  Dtype         \n",
      "---  ------        --------------  -----         \n",
      " 0   id            76051 non-null  object        \n",
      " 1   user_id       76051 non-null  object        \n",
      " 2   message_date  76051 non-null  datetime64[ns]\n",
      "dtypes: datetime64[ns](1), object(2)\n",
      "memory usage: 1.7+ MB\n"
     ]
    }
   ],
   "source": [
    "megaline_messages[\"user_id\"]=megaline_messages[\"user_id\"].astype(\"object\")\n",
    "megaline_messages[\"message_date\"]=pd.to_datetime(megaline_messages[\"message_date\"])\n",
    "\n",
    "megaline_messages.info()"
   ]
  },
  {
   "cell_type": "markdown",
   "metadata": {},
   "source": [
    "### Enriquecer los datos"
   ]
  },
  {
   "cell_type": "code",
   "execution_count": 25,
   "metadata": {},
   "outputs": [],
   "source": [
    "megaline_messages[\"month\"]=megaline_messages[\"message_date\"].dt.month"
   ]
  },
  {
   "cell_type": "markdown",
   "metadata": {},
   "source": [
    "## Internet"
   ]
  },
  {
   "cell_type": "code",
   "execution_count": 26,
   "metadata": {},
   "outputs": [
    {
     "name": "stdout",
     "output_type": "stream",
     "text": [
      "<class 'pandas.core.frame.DataFrame'>\n",
      "RangeIndex: 104825 entries, 0 to 104824\n",
      "Data columns (total 4 columns):\n",
      " #   Column        Non-Null Count   Dtype  \n",
      "---  ------        --------------   -----  \n",
      " 0   id            104825 non-null  object \n",
      " 1   user_id       104825 non-null  int64  \n",
      " 2   session_date  104825 non-null  object \n",
      " 3   mb_used       104825 non-null  float64\n",
      "dtypes: float64(1), int64(1), object(2)\n",
      "memory usage: 3.2+ MB\n"
     ]
    }
   ],
   "source": [
    "megaline_internet.info()# Imprime la información general/resumida sobre el DataFrame de internet\n"
   ]
  },
  {
   "cell_type": "code",
   "execution_count": 27,
   "metadata": {},
   "outputs": [
    {
     "name": "stdout",
     "output_type": "stream",
     "text": [
      "         id  user_id session_date  mb_used\n",
      "0   1000_13     1000   2018-12-29    89.86\n",
      "1  1000_204     1000   2018-12-31     0.00\n",
      "2  1000_379     1000   2018-12-28   660.40\n",
      "3  1000_413     1000   2018-12-26   270.99\n",
      "4  1000_442     1000   2018-12-27   880.22\n"
     ]
    }
   ],
   "source": [
    "print(megaline_internet.head())# Imprime una muestra de datos para el tráfico de internet"
   ]
  },
  {
   "cell_type": "code",
   "execution_count": 28,
   "metadata": {},
   "outputs": [
    {
     "data": {
      "text/plain": [
       "0"
      ]
     },
     "execution_count": 28,
     "metadata": {},
     "output_type": "execute_result"
    }
   ],
   "source": [
    "megaline_internet.duplicated().sum()"
   ]
  },
  {
   "cell_type": "code",
   "execution_count": 29,
   "metadata": {},
   "outputs": [
    {
     "data": {
      "text/html": [
       "<div>\n",
       "<style scoped>\n",
       "    .dataframe tbody tr th:only-of-type {\n",
       "        vertical-align: middle;\n",
       "    }\n",
       "\n",
       "    .dataframe tbody tr th {\n",
       "        vertical-align: top;\n",
       "    }\n",
       "\n",
       "    .dataframe thead th {\n",
       "        text-align: right;\n",
       "    }\n",
       "</style>\n",
       "<table border=\"1\" class=\"dataframe\">\n",
       "  <thead>\n",
       "    <tr style=\"text-align: right;\">\n",
       "      <th></th>\n",
       "      <th>user_id</th>\n",
       "      <th>mb_used</th>\n",
       "    </tr>\n",
       "  </thead>\n",
       "  <tbody>\n",
       "    <tr>\n",
       "      <th>count</th>\n",
       "      <td>104825.000000</td>\n",
       "      <td>104825.000000</td>\n",
       "    </tr>\n",
       "    <tr>\n",
       "      <th>mean</th>\n",
       "      <td>1242.496361</td>\n",
       "      <td>366.713701</td>\n",
       "    </tr>\n",
       "    <tr>\n",
       "      <th>std</th>\n",
       "      <td>142.053913</td>\n",
       "      <td>277.170542</td>\n",
       "    </tr>\n",
       "    <tr>\n",
       "      <th>min</th>\n",
       "      <td>1000.000000</td>\n",
       "      <td>0.000000</td>\n",
       "    </tr>\n",
       "    <tr>\n",
       "      <th>25%</th>\n",
       "      <td>1122.000000</td>\n",
       "      <td>136.080000</td>\n",
       "    </tr>\n",
       "    <tr>\n",
       "      <th>50%</th>\n",
       "      <td>1236.000000</td>\n",
       "      <td>343.980000</td>\n",
       "    </tr>\n",
       "    <tr>\n",
       "      <th>75%</th>\n",
       "      <td>1367.000000</td>\n",
       "      <td>554.610000</td>\n",
       "    </tr>\n",
       "    <tr>\n",
       "      <th>max</th>\n",
       "      <td>1499.000000</td>\n",
       "      <td>1693.470000</td>\n",
       "    </tr>\n",
       "  </tbody>\n",
       "</table>\n",
       "</div>"
      ],
      "text/plain": [
       "             user_id        mb_used\n",
       "count  104825.000000  104825.000000\n",
       "mean     1242.496361     366.713701\n",
       "std       142.053913     277.170542\n",
       "min      1000.000000       0.000000\n",
       "25%      1122.000000     136.080000\n",
       "50%      1236.000000     343.980000\n",
       "75%      1367.000000     554.610000\n",
       "max      1499.000000    1693.470000"
      ]
     },
     "execution_count": 29,
     "metadata": {},
     "output_type": "execute_result"
    }
   ],
   "source": [
    "megaline_internet.describe()"
   ]
  },
  {
   "cell_type": "markdown",
   "metadata": {},
   "source": [
    "El tipo de datos de la columna user_id está como entero, pero sería mejor que sea de tipo object ya que no se pueden hacer cálculos con los números de usuario. Igualmente, la columna session_date debería ser de tipo datetime y sería bueno crear una columna que extraiga el mes en el que ocurrió cada sesión. Finalmente, el método describe() permite ver que el consumo promedio de internet en cada sesión, es de 366 megabytes. Sin embargo, sería mejor convertir el consumo a gb, ya que la empresa calcula el cobro extra de internet por gb."
   ]
  },
  {
   "cell_type": "markdown",
   "metadata": {},
   "source": [
    "### Corregir los datos"
   ]
  },
  {
   "cell_type": "code",
   "execution_count": 30,
   "metadata": {},
   "outputs": [],
   "source": [
    "megaline_internet[\"user_id\"]=megaline_internet[\"user_id\"].astype(\"object\")\n",
    "megaline_internet[\"session_date\"]=pd.to_datetime(megaline_internet[\"session_date\"])"
   ]
  },
  {
   "cell_type": "markdown",
   "metadata": {},
   "source": [
    "### Enriquecer los datos"
   ]
  },
  {
   "cell_type": "code",
   "execution_count": 31,
   "metadata": {},
   "outputs": [
    {
     "data": {
      "text/html": [
       "<div>\n",
       "<style scoped>\n",
       "    .dataframe tbody tr th:only-of-type {\n",
       "        vertical-align: middle;\n",
       "    }\n",
       "\n",
       "    .dataframe tbody tr th {\n",
       "        vertical-align: top;\n",
       "    }\n",
       "\n",
       "    .dataframe thead th {\n",
       "        text-align: right;\n",
       "    }\n",
       "</style>\n",
       "<table border=\"1\" class=\"dataframe\">\n",
       "  <thead>\n",
       "    <tr style=\"text-align: right;\">\n",
       "      <th></th>\n",
       "      <th>id</th>\n",
       "      <th>user_id</th>\n",
       "      <th>session_date</th>\n",
       "      <th>mb_used</th>\n",
       "      <th>month</th>\n",
       "      <th>gb_used</th>\n",
       "    </tr>\n",
       "  </thead>\n",
       "  <tbody>\n",
       "    <tr>\n",
       "      <th>0</th>\n",
       "      <td>1000_13</td>\n",
       "      <td>1000</td>\n",
       "      <td>2018-12-29</td>\n",
       "      <td>89.86</td>\n",
       "      <td>12</td>\n",
       "      <td>0.087754</td>\n",
       "    </tr>\n",
       "    <tr>\n",
       "      <th>1</th>\n",
       "      <td>1000_204</td>\n",
       "      <td>1000</td>\n",
       "      <td>2018-12-31</td>\n",
       "      <td>0.00</td>\n",
       "      <td>12</td>\n",
       "      <td>0.000000</td>\n",
       "    </tr>\n",
       "    <tr>\n",
       "      <th>2</th>\n",
       "      <td>1000_379</td>\n",
       "      <td>1000</td>\n",
       "      <td>2018-12-28</td>\n",
       "      <td>660.40</td>\n",
       "      <td>12</td>\n",
       "      <td>0.644922</td>\n",
       "    </tr>\n",
       "    <tr>\n",
       "      <th>3</th>\n",
       "      <td>1000_413</td>\n",
       "      <td>1000</td>\n",
       "      <td>2018-12-26</td>\n",
       "      <td>270.99</td>\n",
       "      <td>12</td>\n",
       "      <td>0.264639</td>\n",
       "    </tr>\n",
       "    <tr>\n",
       "      <th>4</th>\n",
       "      <td>1000_442</td>\n",
       "      <td>1000</td>\n",
       "      <td>2018-12-27</td>\n",
       "      <td>880.22</td>\n",
       "      <td>12</td>\n",
       "      <td>0.859590</td>\n",
       "    </tr>\n",
       "  </tbody>\n",
       "</table>\n",
       "</div>"
      ],
      "text/plain": [
       "         id user_id session_date  mb_used  month   gb_used\n",
       "0   1000_13    1000   2018-12-29    89.86     12  0.087754\n",
       "1  1000_204    1000   2018-12-31     0.00     12  0.000000\n",
       "2  1000_379    1000   2018-12-28   660.40     12  0.644922\n",
       "3  1000_413    1000   2018-12-26   270.99     12  0.264639\n",
       "4  1000_442    1000   2018-12-27   880.22     12  0.859590"
      ]
     },
     "execution_count": 31,
     "metadata": {},
     "output_type": "execute_result"
    }
   ],
   "source": [
    "megaline_internet[\"month\"]=megaline_internet[\"session_date\"].dt.month\n",
    "megaline_internet.head()\n",
    "\n",
    "megaline_internet[\"gb_used\"]=megaline_internet[\"mb_used\"]/1024\n",
    "megaline_internet.head()"
   ]
  },
  {
   "cell_type": "markdown",
   "metadata": {},
   "source": [
    "## Estudiar las condiciones de las tarifas"
   ]
  },
  {
   "cell_type": "code",
   "execution_count": 32,
   "metadata": {},
   "outputs": [
    {
     "data": {
      "text/html": [
       "<div>\n",
       "<style scoped>\n",
       "    .dataframe tbody tr th:only-of-type {\n",
       "        vertical-align: middle;\n",
       "    }\n",
       "\n",
       "    .dataframe tbody tr th {\n",
       "        vertical-align: top;\n",
       "    }\n",
       "\n",
       "    .dataframe thead th {\n",
       "        text-align: right;\n",
       "    }\n",
       "</style>\n",
       "<table border=\"1\" class=\"dataframe\">\n",
       "  <thead>\n",
       "    <tr style=\"text-align: right;\">\n",
       "      <th></th>\n",
       "      <th>messages_included</th>\n",
       "      <th>mb_per_month_included</th>\n",
       "      <th>minutes_included</th>\n",
       "      <th>usd_monthly_pay</th>\n",
       "      <th>usd_per_gb</th>\n",
       "      <th>usd_per_message</th>\n",
       "      <th>usd_per_minute</th>\n",
       "      <th>plan_name</th>\n",
       "      <th>gb_per_month_included</th>\n",
       "    </tr>\n",
       "  </thead>\n",
       "  <tbody>\n",
       "    <tr>\n",
       "      <th>0</th>\n",
       "      <td>50</td>\n",
       "      <td>15360</td>\n",
       "      <td>500</td>\n",
       "      <td>20</td>\n",
       "      <td>10</td>\n",
       "      <td>0.03</td>\n",
       "      <td>0.03</td>\n",
       "      <td>surf</td>\n",
       "      <td>15.0</td>\n",
       "    </tr>\n",
       "    <tr>\n",
       "      <th>1</th>\n",
       "      <td>1000</td>\n",
       "      <td>30720</td>\n",
       "      <td>3000</td>\n",
       "      <td>70</td>\n",
       "      <td>7</td>\n",
       "      <td>0.01</td>\n",
       "      <td>0.01</td>\n",
       "      <td>ultimate</td>\n",
       "      <td>30.0</td>\n",
       "    </tr>\n",
       "  </tbody>\n",
       "</table>\n",
       "</div>"
      ],
      "text/plain": [
       "   messages_included  mb_per_month_included  minutes_included  \\\n",
       "0                 50                  15360               500   \n",
       "1               1000                  30720              3000   \n",
       "\n",
       "   usd_monthly_pay  usd_per_gb  usd_per_message  usd_per_minute plan_name  \\\n",
       "0               20          10             0.03            0.03      surf   \n",
       "1               70           7             0.01            0.01  ultimate   \n",
       "\n",
       "   gb_per_month_included  \n",
       "0                   15.0  \n",
       "1                   30.0  "
      ]
     },
     "execution_count": 32,
     "metadata": {},
     "output_type": "execute_result"
    }
   ],
   "source": [
    "megaline_plans.head()# Imprime las condiciones de la tarifa y asegúrate de que te quedan claras\n",
    "\n"
   ]
  },
  {
   "cell_type": "markdown",
   "metadata": {},
   "source": [
    "## Agregar datos por usuario"
   ]
  },
  {
   "cell_type": "code",
   "execution_count": 33,
   "metadata": {},
   "outputs": [
    {
     "name": "stdout",
     "output_type": "stream",
     "text": [
      "      user_id  month  id\n",
      "0        1000     12  16\n",
      "1        1001      8  27\n",
      "2        1001      9  49\n",
      "3        1001     10  65\n",
      "4        1001     11  64\n",
      "...       ...    ...  ..\n",
      "2253     1498     12  39\n",
      "2254     1499      9  41\n",
      "2255     1499     10  53\n",
      "2256     1499     11  45\n",
      "2257     1499     12  65\n",
      "\n",
      "[2258 rows x 3 columns]\n"
     ]
    }
   ],
   "source": [
    "# Calcula el número de llamadas hechas por cada usuario al mes. \n",
    "\n",
    "\n",
    "grp_calls_per_user= megaline_calls.groupby(by=[\"user_id\",\"month\"])[\"id\"].count()\n",
    "calls_per_user=grp_calls_per_user.reset_index()\n",
    "print(calls_per_user)"
   ]
  },
  {
   "cell_type": "code",
   "execution_count": 34,
   "metadata": {},
   "outputs": [
    {
     "name": "stdout",
     "output_type": "stream",
     "text": [
      "      user_id  month  duration\n",
      "0        1000     12     124.0\n",
      "1        1001      8     182.0\n",
      "2        1001      9     315.0\n",
      "3        1001     10     393.0\n",
      "4        1001     11     426.0\n",
      "...       ...    ...       ...\n",
      "2253     1498     12     339.0\n",
      "2254     1499      9     346.0\n",
      "2255     1499     10     385.0\n",
      "2256     1499     11     308.0\n",
      "2257     1499     12     496.0\n",
      "\n",
      "[2258 rows x 3 columns]\n"
     ]
    }
   ],
   "source": [
    "grp_min_calls=megaline_calls.groupby(by=[\"user_id\",\"month\"])[\"duration\"].sum()# Calcula la cantidad de minutos usados por cada usuario al mes. Guarda el resultado.\n",
    "min_per_user=grp_min_calls.reset_index()\n",
    "print(min_per_user)\n"
   ]
  },
  {
   "cell_type": "code",
   "execution_count": 35,
   "metadata": {},
   "outputs": [
    {
     "name": "stdout",
     "output_type": "stream",
     "text": [
      "      user_id  month    gb_used\n",
      "0        1000     12   1.856904\n",
      "1        1001      8   6.756982\n",
      "2        1001      9  13.002754\n",
      "3        1001     10  21.807119\n",
      "4        1001     11  18.070605\n",
      "...       ...    ...        ...\n",
      "2272     1498     12  22.595400\n",
      "2273     1499      9  12.680430\n",
      "2274     1499     10  19.035576\n",
      "2275     1499     11  16.419756\n",
      "2276     1499     12  21.542197\n",
      "\n",
      "[2277 rows x 3 columns]\n"
     ]
    }
   ],
   "source": [
    "# Calcula el volumen del tráfico de Internet usado por cada usuario al mes. Guarda el resultado.\n",
    "\n",
    "grp_internet=megaline_internet.groupby(by=[\"user_id\",\"month\"])[\"gb_used\"].sum()\n",
    "mb_used_per_user= grp_internet.reset_index()\n",
    "print(mb_used_per_user)\n"
   ]
  },
  {
   "cell_type": "code",
   "execution_count": 37,
   "metadata": {},
   "outputs": [
    {
     "name": "stdout",
     "output_type": "stream",
     "text": [
      "      user_id  month  id\n",
      "0        1000     12  11\n",
      "1        1001      8  30\n",
      "2        1001      9  44\n",
      "3        1001     10  53\n",
      "4        1001     11  36\n",
      "...       ...    ...  ..\n",
      "1801     1496      9  21\n",
      "1802     1496     10  18\n",
      "1803     1496     11  13\n",
      "1804     1496     12  11\n",
      "1805     1497     12  50\n",
      "\n",
      "[1806 rows x 3 columns]\n"
     ]
    }
   ],
   "source": [
    "# Calcula el número de mensajes enviados por cada usuario al mes. Guarda el resultado.\n",
    "\n",
    "grp_messages=megaline_messages.groupby(by=[\"user_id\",\"month\"])[\"id\"].count()\n",
    "msgs_per_user=grp_messages.reset_index()\n",
    "print(msgs_per_user)"
   ]
  },
  {
   "cell_type": "code",
   "execution_count": 38,
   "metadata": {},
   "outputs": [
    {
     "name": "stdout",
     "output_type": "stream",
     "text": [
      "      user_id  month  n_calls  minutes  n_messages    gb_used\n",
      "0        1000     12     16.0    124.0        11.0   1.856904\n",
      "1        1001      8     27.0    182.0        30.0   6.756982\n",
      "2        1001      9     49.0    315.0        44.0  13.002754\n",
      "3        1001     10     65.0    393.0        53.0  21.807119\n",
      "4        1001     11     64.0    426.0        36.0  18.070605\n",
      "...       ...    ...      ...      ...         ...        ...\n",
      "2288     1498     12     39.0    339.0         NaN  22.595400\n",
      "2289     1499      9     41.0    346.0         NaN  12.680430\n",
      "2290     1499     10     53.0    385.0         NaN  19.035576\n",
      "2291     1499     11     45.0    308.0         NaN  16.419756\n",
      "2292     1499     12     65.0    496.0         NaN  21.542197\n",
      "\n",
      "[2293 rows x 6 columns]\n"
     ]
    }
   ],
   "source": [
    "# Fusiona los datos de llamadas, minutos, mensajes e Internet con base en user_id y month\n",
    "mrg_call=calls_per_user.merge(min_per_user,on=[\"user_id\",\"month\"],how=\"outer\")\n",
    "mrg_messages=mrg_call.merge(msgs_per_user,on=[\"user_id\",\"month\"],how=\"outer\")\n",
    "data_per_user=mrg_messages.merge(mb_used_per_user,on=[\"user_id\",\"month\"],how=\"outer\")\n",
    "data_per_user.columns=[\"user_id\",\"month\",\"n_calls\",\"minutes\",\"n_messages\",\"gb_used\"]\n",
    "print(data_per_user)"
   ]
  },
  {
   "cell_type": "code",
   "execution_count": 39,
   "metadata": {},
   "outputs": [
    {
     "name": "stdout",
     "output_type": "stream",
     "text": [
      "     user_id  month  n_calls  minutes  n_messages    gb_used first_name  \\\n",
      "0       1000     12     16.0    124.0        11.0   1.856904   Anamaria   \n",
      "1       1001      8     27.0    182.0        30.0   6.756982     Mickey   \n",
      "2       1001      9     49.0    315.0        44.0  13.002754     Mickey   \n",
      "3       1001     10     65.0    393.0        53.0  21.807119     Mickey   \n",
      "4       1001     11     64.0    426.0        36.0  18.070605     Mickey   \n",
      "...      ...    ...      ...      ...         ...        ...        ...   \n",
      "2288    1498     12     39.0    339.0         0.0  22.595400       Scot   \n",
      "2289    1499      9     41.0    346.0         0.0  12.680430      Shena   \n",
      "2290    1499     10     53.0    385.0         0.0  19.035576      Shena   \n",
      "2291    1499     11     45.0    308.0         0.0  16.419756      Shena   \n",
      "2292    1499     12     65.0    496.0         0.0  21.542197      Shena   \n",
      "\n",
      "       last_name  age                                       city  ...  \\\n",
      "0          Bauer   45      Atlanta-Sandy Springs-Roswell, GA MSA  ...   \n",
      "1      Wilkerson   28            Seattle-Tacoma-Bellevue, WA MSA  ...   \n",
      "2      Wilkerson   28            Seattle-Tacoma-Bellevue, WA MSA  ...   \n",
      "3      Wilkerson   28            Seattle-Tacoma-Bellevue, WA MSA  ...   \n",
      "4      Wilkerson   28            Seattle-Tacoma-Bellevue, WA MSA  ...   \n",
      "...          ...  ...                                        ...  ...   \n",
      "2288  Williamson   51  New York-Newark-Jersey City, NY-NJ-PA MSA  ...   \n",
      "2289     Dickson   37          Orlando-Kissimmee-Sanford, FL MSA  ...   \n",
      "2290     Dickson   37          Orlando-Kissimmee-Sanford, FL MSA  ...   \n",
      "2291     Dickson   37          Orlando-Kissimmee-Sanford, FL MSA  ...   \n",
      "2292     Dickson   37          Orlando-Kissimmee-Sanford, FL MSA  ...   \n",
      "\n",
      "     churn_date messages_included mb_per_month_included  minutes_included  \\\n",
      "0        in use              1000                 30720              3000   \n",
      "1        in use                50                 15360               500   \n",
      "2        in use                50                 15360               500   \n",
      "3        in use                50                 15360               500   \n",
      "4        in use                50                 15360               500   \n",
      "...         ...               ...                   ...               ...   \n",
      "2288     in use                50                 15360               500   \n",
      "2289     in use                50                 15360               500   \n",
      "2290     in use                50                 15360               500   \n",
      "2291     in use                50                 15360               500   \n",
      "2292     in use                50                 15360               500   \n",
      "\n",
      "      usd_monthly_pay  usd_per_gb  usd_per_message  usd_per_minute  plan_name  \\\n",
      "0                  70           7             0.01            0.01   ultimate   \n",
      "1                  20          10             0.03            0.03       surf   \n",
      "2                  20          10             0.03            0.03       surf   \n",
      "3                  20          10             0.03            0.03       surf   \n",
      "4                  20          10             0.03            0.03       surf   \n",
      "...               ...         ...              ...             ...        ...   \n",
      "2288               20          10             0.03            0.03       surf   \n",
      "2289               20          10             0.03            0.03       surf   \n",
      "2290               20          10             0.03            0.03       surf   \n",
      "2291               20          10             0.03            0.03       surf   \n",
      "2292               20          10             0.03            0.03       surf   \n",
      "\n",
      "      gb_per_month_included  \n",
      "0                      30.0  \n",
      "1                      15.0  \n",
      "2                      15.0  \n",
      "3                      15.0  \n",
      "4                      15.0  \n",
      "...                     ...  \n",
      "2288                   15.0  \n",
      "2289                   15.0  \n",
      "2290                   15.0  \n",
      "2291                   15.0  \n",
      "2292                   15.0  \n",
      "\n",
      "[2293 rows x 22 columns]\n"
     ]
    }
   ],
   "source": [
    "mrg_user=data_per_user.merge(megaline_users,how=\"inner\",on=\"user_id\")# Añade la información de la tarifa\n",
    "mrg_data=mrg_user.merge(megaline_plans,how=\"inner\",left_on=\"plan\",right_on=\"plan_name\")\n",
    "mrg_data.fillna(0,inplace=True)\n",
    "print(mrg_data)"
   ]
  },
  {
   "cell_type": "code",
   "execution_count": 40,
   "metadata": {},
   "outputs": [
    {
     "name": "stdout",
     "output_type": "stream",
     "text": [
      "     user_id  month  n_calls  minutes  n_messages    gb_used first_name  \\\n",
      "0       1000     12     16.0    124.0        11.0   1.856904   Anamaria   \n",
      "1       1001      8     27.0    182.0        30.0   6.756982     Mickey   \n",
      "2       1001      9     49.0    315.0        44.0  13.002754     Mickey   \n",
      "3       1001     10     65.0    393.0        53.0  21.807119     Mickey   \n",
      "4       1001     11     64.0    426.0        36.0  18.070605     Mickey   \n",
      "...      ...    ...      ...      ...         ...        ...        ...   \n",
      "2288    1498     12     39.0    339.0         0.0  22.595400       Scot   \n",
      "2289    1499      9     41.0    346.0         0.0  12.680430      Shena   \n",
      "2290    1499     10     53.0    385.0         0.0  19.035576      Shena   \n",
      "2291    1499     11     45.0    308.0         0.0  16.419756      Shena   \n",
      "2292    1499     12     65.0    496.0         0.0  21.542197      Shena   \n",
      "\n",
      "       last_name  age                                       city  ...  \\\n",
      "0          Bauer   45      Atlanta-Sandy Springs-Roswell, GA MSA  ...   \n",
      "1      Wilkerson   28            Seattle-Tacoma-Bellevue, WA MSA  ...   \n",
      "2      Wilkerson   28            Seattle-Tacoma-Bellevue, WA MSA  ...   \n",
      "3      Wilkerson   28            Seattle-Tacoma-Bellevue, WA MSA  ...   \n",
      "4      Wilkerson   28            Seattle-Tacoma-Bellevue, WA MSA  ...   \n",
      "...          ...  ...                                        ...  ...   \n",
      "2288  Williamson   51  New York-Newark-Jersey City, NY-NJ-PA MSA  ...   \n",
      "2289     Dickson   37          Orlando-Kissimmee-Sanford, FL MSA  ...   \n",
      "2290     Dickson   37          Orlando-Kissimmee-Sanford, FL MSA  ...   \n",
      "2291     Dickson   37          Orlando-Kissimmee-Sanford, FL MSA  ...   \n",
      "2292     Dickson   37          Orlando-Kissimmee-Sanford, FL MSA  ...   \n",
      "\n",
      "     plan_name gb_per_month_included extra_min  extra_msgs  extra_internet  \\\n",
      "0     ultimate                  30.0       0.0         0.0        0.000000   \n",
      "1         surf                  15.0       0.0         0.0        0.000000   \n",
      "2         surf                  15.0       0.0         0.0        0.000000   \n",
      "3         surf                  15.0       0.0         3.0        6.807119   \n",
      "4         surf                  15.0       0.0         0.0        3.070605   \n",
      "...        ...                   ...       ...         ...             ...   \n",
      "2288      surf                  15.0       0.0         0.0        7.595400   \n",
      "2289      surf                  15.0       0.0         0.0        0.000000   \n",
      "2290      surf                  15.0       0.0         0.0        4.035576   \n",
      "2291      surf                  15.0       0.0         0.0        1.419756   \n",
      "2292      surf                  15.0       0.0         0.0        6.542197   \n",
      "\n",
      "      gb_round_up  pay_extra_min  pay_extra_msgs  pay_extra_internet  \\\n",
      "0             0.0            0.0            0.00                 0.0   \n",
      "1             0.0            0.0            0.00                 0.0   \n",
      "2             0.0            0.0            0.00                 0.0   \n",
      "3             7.0            0.0            0.09                70.0   \n",
      "4             4.0            0.0            0.00                40.0   \n",
      "...           ...            ...             ...                 ...   \n",
      "2288          8.0            0.0            0.00                80.0   \n",
      "2289          0.0            0.0            0.00                 0.0   \n",
      "2290          5.0            0.0            0.00                50.0   \n",
      "2291          2.0            0.0            0.00                20.0   \n",
      "2292          7.0            0.0            0.00                70.0   \n",
      "\n",
      "      total_pay  \n",
      "0         70.00  \n",
      "1         20.00  \n",
      "2         20.00  \n",
      "3         90.09  \n",
      "4         60.00  \n",
      "...         ...  \n",
      "2288     100.00  \n",
      "2289      20.00  \n",
      "2290      70.00  \n",
      "2291      40.00  \n",
      "2292      90.00  \n",
      "\n",
      "[2293 rows x 30 columns]\n"
     ]
    }
   ],
   "source": [
    "# Calcula el ingreso mensual para cada usuario\n",
    "mrg_data[\"extra_min\"]=np.maximum(mrg_data[\"minutes\"]-mrg_data[\"minutes_included\"],0)\n",
    "mrg_data[\"extra_msgs\"]=np.maximum(mrg_data[\"n_messages\"]-mrg_data[\"messages_included\"],0)\n",
    "mrg_data[\"extra_internet\"]=np.maximum(mrg_data[\"gb_used\"]-mrg_data[\"gb_per_month_included\"],0)\n",
    "mrg_data[\"gb_round_up\"]=np.ceil(mrg_data[\"extra_internet\"])\n",
    "mrg_data[\"pay_extra_min\"]=mrg_data[\"extra_min\"]*mrg_data[\"usd_per_minute\"]\n",
    "mrg_data[\"pay_extra_msgs\"]=mrg_data[\"extra_msgs\"]*mrg_data[\"usd_per_message\"]\n",
    "mrg_data[\"pay_extra_internet\"]=mrg_data[\"gb_round_up\"]*mrg_data[\"usd_per_gb\"]\n",
    "mrg_data[\"total_pay\"]=mrg_data[\"usd_monthly_pay\"]+mrg_data[\"pay_extra_min\"]+mrg_data[\"pay_extra_msgs\"]+mrg_data[\"pay_extra_internet\"]\n",
    "\n",
    "print(mrg_data)"
   ]
  },
  {
   "cell_type": "markdown",
   "metadata": {},
   "source": [
    "En esta sección se calcularon de manera independiente la cantidad de llamadas, la cantidad de minutos usados, la cantidad de mensajes y el tráfico de internet que cada usuario consumió cada mes.Después, se agruparon todos los datos en un solo dataframe y se añadió la información de las tarifas. Además, se reemplazaron los valores NaN con 0 para tener valores de referencia que no alteren demasiado el análisis posterior. Finalmente, se calculó el ingreso mensual proveniente de cada usuario. Primero se determinó si es que los usuarios habían consumido más cantidad de minutos, mensajes e internet de lo que estaba incluido en su plan. De no ser así, se determinaron dichos valores en 0. Después, se multiplicaron las cantidades extra por los montos determinados en caso se excediesen los límites de cada plan. Por último, se sumaron los cargos extra más la tarifa mensual que cada usuario debe pagar para calcular el ingreso total. "
   ]
  },
  {
   "cell_type": "markdown",
   "metadata": {},
   "source": [
    "## Análisis del comportamiento de usuario"
   ]
  },
  {
   "cell_type": "markdown",
   "metadata": {},
   "source": [
    "### Llamadas"
   ]
  },
  {
   "cell_type": "code",
   "execution_count": 41,
   "metadata": {},
   "outputs": [
    {
     "data": {
      "image/png": "[encoded data removed]",
      "text/plain": [
       "<Figure size 640x480 with 1 Axes>"
      ]
     },
     "metadata": {},
     "output_type": "display_data"
    }
   ],
   "source": [
    "# Compara la duración promedio de llamadas por cada plan y por cada mes. Traza un gráfico de barras para visualizarla.\n",
    "avg_call_duration=mrg_data.pivot_table(index=\"month\",columns=\"plan\",values=\"minutes\",aggfunc=\"mean\")\n",
    "avg_call_duration.plot(kind=\"bar\",title=\"Duración promedio de llamadas por mes y por plan\",xlabel=\"Mes\",ylabel=\"Minutos promedio\")\n",
    "plt.show()"
   ]
  },
  {
   "cell_type": "code",
   "execution_count": 42,
   "metadata": {},
   "outputs": [
    {
     "data": {
      "image/png": "[encoded data removed]",
      "text/plain": [
       "<Figure size 640x480 with 1 Axes>"
      ]
     },
     "metadata": {},
     "output_type": "display_data"
    }
   ],
   "source": [
    "# Compara el número de minutos mensuales que necesitan los usuarios de cada plan. Traza un histograma.\n",
    "calls_duration_surf=mrg_data[mrg_data[\"plan\"]==\"surf\"][\"minutes\"].reset_index(drop=True)\n",
    "calls_duration_ultimate=mrg_data[mrg_data[\"plan\"]==\"ultimate\"][\"minutes\"].reset_index(drop=True)\n",
    "\n",
    "calls_duration_surf.plot(kind=\"hist\")\n",
    "calls_duration_ultimate.plot(kind=\"hist\",alpha=0.7)\n",
    "plt.legend([\"surf\",\"ultimate\"])\n",
    "plt.title(\"Distribución de minutos mensuales por plan\")\n",
    "plt.xlabel(\"Minutos usados por mes\")\n",
    "plt.ylabel(\"Frecuencia\")\n",
    "plt.show()"
   ]
  },
  {
   "cell_type": "code",
   "execution_count": 43,
   "metadata": {},
   "outputs": [
    {
     "name": "stdout",
     "output_type": "stream",
     "text": [
      "Media de la duración mensual de llamadas del plan Surf: 428.7495232040687\n",
      "Varianza de la duración de llamadas del pland Surf: 54933.334591317485\n",
      "\n",
      "Media de la duración mensual de llamadas del plan Ultimate: 430.45\n",
      "Varianza de la duración de llamadas del pland Ultimate: 57764.12527777777\n",
      "\n",
      "count    1573.000000\n",
      "mean      428.749523\n",
      "std       234.453150\n",
      "min         0.000000\n",
      "25%       272.000000\n",
      "50%       425.000000\n",
      "75%       576.000000\n",
      "max      1510.000000\n",
      "Name: minutes, dtype: float64\n",
      "\n",
      "count     720.000000\n",
      "mean      430.450000\n",
      "std       240.508762\n",
      "min         0.000000\n",
      "25%       260.000000\n",
      "50%       424.000000\n",
      "75%       565.250000\n",
      "max      1369.000000\n",
      "Name: minutes, dtype: float64\n"
     ]
    }
   ],
   "source": [
    "# Calcula la media y la varianza de la duración mensual de llamadas.\n",
    "print(\"Media de la duración mensual de llamadas del plan Surf:\",calls_duration_surf.mean())\n",
    "var_calls_surf=np.var(calls_duration_surf)\n",
    "print(\"Varianza de la duración de llamadas del pland Surf:\", var_calls_surf)\n",
    "print()\n",
    "print(\"Media de la duración mensual de llamadas del plan Ultimate:\",calls_duration_ultimate.mean())\n",
    "var_calls_ultimate=np.var(calls_duration_ultimate)\n",
    "print(\"Varianza de la duración de llamadas del pland Ultimate:\", var_calls_ultimate)\n",
    "print()\n",
    "print(calls_duration_surf.describe())\n",
    "print()\n",
    "print(calls_duration_ultimate.describe())"
   ]
  },
  {
   "cell_type": "code",
   "execution_count": 44,
   "metadata": {},
   "outputs": [
    {
     "data": {
      "text/plain": [
       "<Axes: xlabel='minutes'>"
      ]
     },
     "execution_count": 44,
     "metadata": {},
     "output_type": "execute_result"
    },
    {
     "data": {
      "image/png": "[encoded data removed]",
      "text/plain": [
       "<Figure size 640x480 with 1 Axes>"
      ]
     },
     "metadata": {},
     "output_type": "display_data"
    }
   ],
   "source": [
    "# Traza un diagrama de caja para visualizar la distribución de la duración mensual de llamadas\n",
    "sns.boxplot(x=calls_duration_surf)\n"
   ]
  },
  {
   "cell_type": "code",
   "execution_count": 47,
   "metadata": {},
   "outputs": [
    {
     "data": {
      "text/plain": [
       "<Axes: xlabel='minutes'>"
      ]
     },
     "execution_count": 47,
     "metadata": {},
     "output_type": "execute_result"
    },
    {
     "data": {
      "image/png": "[encoded data removed]",
      "text/plain": [
       "<Figure size 640x480 with 1 Axes>"
      ]
     },
     "metadata": {},
     "output_type": "display_data"
    }
   ],
   "source": [
    "sns.boxplot(x=calls_duration_ultimate)"
   ]
  },
  {
   "cell_type": "markdown",
   "metadata": {},
   "source": [
    "El histograma muestra que la distribución de la duración de las llamadas por mes por usuario son bastante similares para ambos planes, con una media de 436 minutos de duración para el plan Surf y una media de 434 minutos de duración de las llamadas para el plan Ultimate. Asimismo, se puede ver que, en ambos casos, los datos tienen una gran dispersión y el diagrama de caja muestra que las llamadas con una duración mayor a 900 minutos son consideradas valores atípicos. Entonces, se puede decir que el comportamiento de los usuarios en cuanto a la duración de las llamadas no varía en función del plan. "
   ]
  },
  {
   "cell_type": "markdown",
   "metadata": {},
   "source": [
    "### Mensajes"
   ]
  },
  {
   "cell_type": "code",
   "execution_count": 48,
   "metadata": {},
   "outputs": [
    {
     "data": {
      "image/png": "[encoded data removed]",
      "text/plain": [
       "<Figure size 640x480 with 1 Axes>"
      ]
     },
     "metadata": {},
     "output_type": "display_data"
    }
   ],
   "source": [
    "avg_number_messages=mrg_data.pivot_table(index=\"month\",columns=\"plan\",values=\"n_messages\",aggfunc=\"mean\")\n",
    "avg_call_duration.plot(kind=\"bar\",title=\"Cantidad promedio de mensajes por mes y por plan\",xlabel=\"Mes\",ylabel=\"Número promedio de mensajes\")\n",
    "plt.show()"
   ]
  },
  {
   "cell_type": "code",
   "execution_count": 49,
   "metadata": {},
   "outputs": [
    {
     "data": {
      "image/png": "[encoded data removed]",
      "text/plain": [
       "<Figure size 640x480 with 1 Axes>"
      ]
     },
     "metadata": {},
     "output_type": "display_data"
    }
   ],
   "source": [
    "# Comprara el número de mensajes que tienden a enviar cada mes los usuarios de cada plan\n",
    "number_messages_surf=mrg_data[mrg_data[\"plan\"]==\"surf\"][\"n_messages\"].reset_index(drop=True)\n",
    "number_messages_ultimate=mrg_data[mrg_data[\"plan\"]==\"ultimate\"][\"n_messages\"].reset_index(drop=True)\n",
    "\n",
    "number_messages_surf.plot(kind=\"hist\",bins=20)\n",
    "number_messages_ultimate.plot(kind=\"hist\",alpha=0.7,bins=20)\n",
    "plt.legend([\"surf\",\"ultimate\"])\n",
    "plt.title(\"Distribución de número de mensajes por plan\")\n",
    "plt.xlabel(\"Número de mensajes por mes\")\n",
    "plt.ylabel(\"Frecuencia\")\n",
    "plt.show()\n"
   ]
  },
  {
   "cell_type": "code",
   "execution_count": 50,
   "metadata": {},
   "outputs": [
    {
     "name": "stdout",
     "output_type": "stream",
     "text": [
      "count    1573.000000\n",
      "mean       31.159568\n",
      "std        33.566717\n",
      "min         0.000000\n",
      "25%         3.000000\n",
      "50%        24.000000\n",
      "75%        47.000000\n",
      "max       266.000000\n",
      "Name: n_messages, dtype: float64\n",
      "\n",
      "Varianza del número de mensajes del plan Surf: 1126.0082317266622\n",
      "\n",
      "count    720.000000\n",
      "mean      37.551389\n",
      "std       34.767179\n",
      "min        0.000000\n",
      "25%        7.000000\n",
      "50%       30.000000\n",
      "75%       61.000000\n",
      "max      166.000000\n",
      "Name: n_messages, dtype: float64\n",
      "\n",
      "Varianza del número de mensajes del plan Ultimate: 1207.0779147376543\n"
     ]
    }
   ],
   "source": [
    "print(number_messages_surf.describe())\n",
    "print()\n",
    "var_messages_surf=np.var(number_messages_surf)\n",
    "print(\"Varianza del número de mensajes del plan Surf:\",var_messages_surf)\n",
    "print()\n",
    "print(number_messages_ultimate.describe())\n",
    "print()\n",
    "var_messages_ultimate=np.var(number_messages_ultimate)\n",
    "print(\"Varianza del número de mensajes del plan Ultimate:\",var_messages_ultimate)"
   ]
  },
  {
   "cell_type": "code",
   "execution_count": 51,
   "metadata": {},
   "outputs": [
    {
     "data": {
      "text/plain": [
       "<Axes: xlabel='n_messages', ylabel='plan'>"
      ]
     },
     "execution_count": 51,
     "metadata": {},
     "output_type": "execute_result"
    },
    {
     "data": {
      "image/png": "[encoded data removed]",
      "text/plain": [
       "<Figure size 640x480 with 1 Axes>"
      ]
     },
     "metadata": {},
     "output_type": "display_data"
    }
   ],
   "source": [
    "sns.boxplot(data=mrg_data,x=\"n_messages\",y=\"plan\",order=[\"surf\",\"ultimate\"])"
   ]
  },
  {
   "cell_type": "markdown",
   "metadata": {},
   "source": [
    "El histograma y los diagramas de caja muestran que el comportamiento de los usuarios respecto a los mensajes es ligeramente diferente según el plan. Ya que el histograma demuestra que los datos tienen un sesgo a la derecha, se comparan las medianas y se puede observar que los usuarios del plan ultimate, con una mediana de 41, tienden a mandar más mensajes que los usuarios del plan surf, cuya mediana es 32. Además, mientras que para los usuarios del plan surf se considera que mandar más de 100 mensajes mensualmente es un valor atípico, para los usuarios del plan ultimate mandar más de 125 mensajes es un valor atípico."
   ]
  },
  {
   "cell_type": "markdown",
   "metadata": {},
   "source": [
    "### Internet"
   ]
  },
  {
   "cell_type": "code",
   "execution_count": 52,
   "metadata": {},
   "outputs": [
    {
     "data": {
      "image/png": "[encoded data removed]",
      "text/plain": [
       "<Figure size 640x480 with 1 Axes>"
      ]
     },
     "metadata": {},
     "output_type": "display_data"
    }
   ],
   "source": [
    "avg_internet_consumed=mrg_data.pivot_table(index=\"month\",columns=\"plan\",values=\"gb_used\",aggfunc=\"mean\")\n",
    "avg_call_duration.plot(kind=\"bar\",title=\"Consumo promedio de internet por mes y por plan en GB\",xlabel=\"Mes\",ylabel=\"Cantidad promedio de GB\")\n",
    "plt.show()"
   ]
  },
  {
   "cell_type": "code",
   "execution_count": 53,
   "metadata": {},
   "outputs": [
    {
     "data": {
      "image/png": "[encoded data removed]",
      "text/plain": [
       "<Figure size 640x480 with 1 Axes>"
      ]
     },
     "metadata": {},
     "output_type": "display_data"
    }
   ],
   "source": [
    "# Compara la cantidad de tráfico de Internet consumido por usuarios por plan\n",
    "gb_used_surf=mrg_data[mrg_data[\"plan\"]==\"surf\"][\"gb_used\"].reset_index(drop=True)\n",
    "gb_used_ultimate=mrg_data[mrg_data[\"plan\"]==\"ultimate\"][\"gb_used\"].reset_index(drop=True)\n",
    "\n",
    "gb_used_surf.plot(kind=\"hist\",bins=20)\n",
    "gb_used_ultimate.plot(kind=\"hist\",alpha=0.7,bins=20)\n",
    "plt.legend([\"surf\",\"ultimate\"])\n",
    "plt.title(\"Distribución de internet consumido por mes por plan\")\n",
    "plt.xlabel(\"Cantidad de internet consumido por mes en gigabytes\")\n",
    "plt.ylabel(\"Frecuencia\")\n",
    "plt.show()"
   ]
  },
  {
   "cell_type": "code",
   "execution_count": 54,
   "metadata": {},
   "outputs": [
    {
     "name": "stdout",
     "output_type": "stream",
     "text": [
      "count    1573.000000\n",
      "mean       16.170199\n",
      "std         7.825697\n",
      "min         0.000000\n",
      "25%        11.705586\n",
      "50%        16.434873\n",
      "75%        20.507432\n",
      "max        69.269131\n",
      "Name: gb_used, dtype: float64\n",
      "\n",
      "Varianza de la distribución del consumo de internet para el plan surf: 61.202594454778016\n",
      "\n",
      "count    720.000000\n",
      "mean      16.811230\n",
      "std        7.667869\n",
      "min        0.000000\n",
      "25%       12.370073\n",
      "50%       16.463223\n",
      "75%       20.522000\n",
      "max       45.503252\n",
      "Name: gb_used, dtype: float64\n",
      "Varianza de la distribución del consumo de internet para el plan ultimate: 58.71454728954916\n"
     ]
    }
   ],
   "source": [
    "print(gb_used_surf.describe())\n",
    "print()\n",
    "var_internet_surf=np.var(gb_used_surf)\n",
    "print(\"Varianza de la distribución del consumo de internet para el plan surf:\", var_internet_surf)\n",
    "print()\n",
    "print(gb_used_ultimate.describe())\n",
    "var_internet_ultimate=np.var(gb_used_ultimate)\n",
    "print(\"Varianza de la distribución del consumo de internet para el plan ultimate:\", var_internet_ultimate)"
   ]
  },
  {
   "cell_type": "code",
   "execution_count": 55,
   "metadata": {},
   "outputs": [
    {
     "data": {
      "text/plain": [
       "<Axes: xlabel='gb_used', ylabel='plan'>"
      ]
     },
     "execution_count": 55,
     "metadata": {},
     "output_type": "execute_result"
    },
    {
     "data": {
      "image/png": "[encoded data removed]",
      "text/plain": [
       "<Figure size 640x480 with 1 Axes>"
      ]
     },
     "metadata": {},
     "output_type": "display_data"
    }
   ],
   "source": [
    "sns.boxplot(data=mrg_data,x=\"gb_used\",y=\"plan\",order=[\"surf\",\"ultimate\"])"
   ]
  },
  {
   "cell_type": "markdown",
   "metadata": {},
   "source": [
    "El histograma y los diagramas de caja muestran que las distribuciones del consumo de internet por mes por usuario son bastante similares para ambos planes, con una media de 16,17 gb de internet para el plan Surf y una media de 16,81 gb de internet para el plan Ultimate. Además, se puede ver que la distribución del plan Surf tiene más valores atípicos que la del plan Ultimate. Con ello también se puede notar que los usuarios del plan Surf tienden a consumir más internet de lo que está incluido en su tarifa mensual, lo cual causaría que tengan que pagar cargos extra. "
   ]
  },
  {
   "cell_type": "markdown",
   "metadata": {},
   "source": [
    "## Ingreso"
   ]
  },
  {
   "cell_type": "code",
   "execution_count": 56,
   "metadata": {},
   "outputs": [
    {
     "data": {
      "image/png": "[encoded data removed]",
      "text/plain": [
       "<Figure size 640x480 with 1 Axes>"
      ]
     },
     "metadata": {},
     "output_type": "display_data"
    }
   ],
   "source": [
    "avg_income=mrg_data.pivot_table(index=\"month\",columns=\"plan\",values=\"total_pay\",aggfunc=\"mean\")\n",
    "avg_income.plot(kind=\"bar\",title=\"Ingresos promedio por mes y por plan\",xlabel=\"Mes\",ylabel=\"Ingresos en dólares\")\n",
    "plt.show()"
   ]
  },
  {
   "cell_type": "code",
   "execution_count": 57,
   "metadata": {},
   "outputs": [
    {
     "data": {
      "image/png": "[encoded data removed]",
      "text/plain": [
       "<Figure size 640x480 with 1 Axes>"
      ]
     },
     "metadata": {},
     "output_type": "display_data"
    }
   ],
   "source": [
    "income_surf=mrg_data[mrg_data[\"plan\"]==\"surf\"][\"total_pay\"].reset_index(drop=True)\n",
    "income_ultimate=mrg_data[mrg_data[\"plan\"]==\"ultimate\"][\"total_pay\"].reset_index(drop=True)\n",
    "\n",
    "income_surf.plot(kind=\"hist\",bins=10)\n",
    "income_ultimate.plot(kind=\"hist\",alpha=0.7,bins=10)\n",
    "plt.legend([\"surf\",\"ultimate\"])\n",
    "plt.title(\"Distribución de los ingresos por plan\")\n",
    "plt.xlabel(\"Ingresos en dólares\")\n",
    "plt.ylabel(\"Frecuencia\")\n",
    "plt.show()"
   ]
  },
  {
   "cell_type": "code",
   "execution_count": 58,
   "metadata": {},
   "outputs": [
    {
     "name": "stdout",
     "output_type": "stream",
     "text": [
      "count    1573.000000\n",
      "mean       60.706408\n",
      "std        55.388042\n",
      "min        20.000000\n",
      "25%        20.000000\n",
      "50%        40.360000\n",
      "75%        80.360000\n",
      "max       590.370000\n",
      "Name: total_pay, dtype: float64\n",
      "\n",
      "Ingresos promedio del plan surf: 60.706408137317226\n",
      "Varianza de la distribución del ingreso para el plan surf: 3065.8848438690247\n",
      "\n",
      "count    720.000000\n",
      "mean      72.313889\n",
      "std       11.395108\n",
      "min       70.000000\n",
      "25%       70.000000\n",
      "50%       70.000000\n",
      "75%       70.000000\n",
      "max      182.000000\n",
      "Name: total_pay, dtype: float64\n",
      "\n",
      "Ingresos promedio del plan ultimate: 72.31388888888888\n",
      "Varianza de la distribución del ingreso para el plan ultimate: 129.66814043209877\n"
     ]
    }
   ],
   "source": [
    "print(income_surf.describe())\n",
    "print()\n",
    "avg_income_surf=income_surf.mean()\n",
    "print(\"Ingresos promedio del plan surf:\",avg_income_surf)\n",
    "var_income_surf=np.var(income_surf)\n",
    "print(\"Varianza de la distribución del ingreso para el plan surf:\", var_income_surf)\n",
    "print()\n",
    "print(income_ultimate.describe())\n",
    "print()\n",
    "avg_income_ultimate=income_ultimate.mean()\n",
    "print(\"Ingresos promedio del plan ultimate:\",avg_income_ultimate)\n",
    "var_income_ultimate=np.var(income_ultimate)\n",
    "print(\"Varianza de la distribución del ingreso para el plan ultimate:\", var_income_ultimate)"
   ]
  },
  {
   "cell_type": "code",
   "execution_count": 59,
   "metadata": {},
   "outputs": [
    {
     "data": {
      "text/plain": [
       "<Axes: xlabel='total_pay', ylabel='plan'>"
      ]
     },
     "execution_count": 59,
     "metadata": {},
     "output_type": "execute_result"
    },
    {
     "data": {
      "image/png": "[encoded data removed]",
      "text/plain": [
       "<Figure size 640x480 with 1 Axes>"
      ]
     },
     "metadata": {},
     "output_type": "display_data"
    }
   ],
   "source": [
    "sns.boxplot(data=mrg_data,x=\"total_pay\",y=\"plan\",order=[\"surf\",\"ultimate\"])"
   ]
  },
  {
   "cell_type": "markdown",
   "metadata": {},
   "source": [
    "El histograma y los diagramas de caja demuestran que los ingresos son diferentes según el plan de los usuarios. Por un lado, el plan Surf tiene un ingreso promedio de 60 dólares, una gran dispersión de datos y mayor cantidad de datos atípicos. Ello indica que los usuarios del plan Surf tienden a pagar más que la tarifa inicial del plan. En cambio, el ingreso promedio del plan Ultimate es de 72 dólares, la mayoría de los datos se concentran alrededor de dicho valor y no existen muchos valores atípicos, lo cual indicaría que rara vez los usuarios de Ultimate sobrepasan la tarifa del plan."
   ]
  },
  {
   "cell_type": "markdown",
   "metadata": {},
   "source": [
    "## Prueba de hipótesis estadísticas"
   ]
  },
  {
   "cell_type": "markdown",
   "metadata": {},
   "source": [
    "H0= Los ingresos promedio de los usuarios de los planes Ultimate y Surf son iguales entre sí\n",
    "\n",
    "H1= Los ingresos promedio de los usuarios de los planes Ultimate y Surf no son iguales entre sí"
   ]
  },
  {
   "cell_type": "code",
   "execution_count": 60,
   "metadata": {},
   "outputs": [
    {
     "name": "stdout",
     "output_type": "stream",
     "text": [
      "valor p: 5.028876110654919e-83\n",
      "Rechazamos la hipótesis nula:las varianzas son diferentes\n",
      "\n",
      "valor p: 3.170390548113574e-15\n",
      "Rechazamos la hipótesis nula\n"
     ]
    }
   ],
   "source": [
    "# Primero se realizará la prueba de Levene para evaluar la igualdad de varianzas de las muestras\n",
    "alpha= 0.05\n",
    "levene=st.levene(income_surf,income_ultimate)\n",
    "print(\"valor p:\",levene.pvalue)\n",
    "if levene.pvalue<alpha:\n",
    "    print(\"Rechazamos la hipótesis nula:las varianzas son diferentes\")\n",
    "else:\n",
    "    print(\"No podemos rechazar la hipótesis nula: las varianzas son iguales\")\n",
    "print()  \n",
    "results=st.ttest_ind(income_surf,income_ultimate,equal_var=False)\n",
    "print(\"valor p:\",results.pvalue)\n",
    "\n",
    "if results.pvalue<alpha:\n",
    "    print(\"Rechazamos la hipótesis nula\")\n",
    "else:\n",
    "    print(\"No podemos rechazar la hipótesis nula\")"
   ]
  },
  {
   "cell_type": "markdown",
   "metadata": {},
   "source": [
    "Con un nivel de significación de 0.05, los datos proporcionan evidencia suficiente para rechazar la hipótesis nula. Por lo tanto, se puede concluir que los ingresos promedio de los usuarios de los planes Surf y Ultimate difieren. "
   ]
  },
  {
   "cell_type": "markdown",
   "metadata": {},
   "source": [
    "H0= El ingreso promedio de los usuarios de NY-NJ es igual al de los usuarios de otras regiones\n",
    "\n",
    "H1= El ingreso promedio de los usuarios de NY-NJ es diferente al de los usuarios de otras regiones"
   ]
  },
  {
   "cell_type": "code",
   "execution_count": 61,
   "metadata": {},
   "outputs": [
    {
     "name": "stdout",
     "output_type": "stream",
     "text": [
      "59.921352785145885\n",
      "0       20.00\n",
      "1       38.84\n",
      "2       20.00\n",
      "3      100.00\n",
      "4       20.00\n",
      "        ...  \n",
      "372     70.00\n",
      "373    100.00\n",
      "374     80.00\n",
      "375     60.00\n",
      "376    100.00\n",
      "Name: total_pay, Length: 377, dtype: float64\n",
      "0       70.00\n",
      "1       20.00\n",
      "2       20.00\n",
      "3       90.09\n",
      "4       60.00\n",
      "        ...  \n",
      "1911    70.00\n",
      "1912    20.00\n",
      "1913    70.00\n",
      "1914    40.00\n",
      "1915    90.00\n",
      "Name: total_pay, Length: 1916, dtype: float64\n",
      "65.2227713987474\n"
     ]
    }
   ],
   "source": [
    "# Primero se filtrará el dataframe para calcular el ingreso promedio de los usuarios de NY-NJ y los que no viven en esa zona\n",
    "income_ny_nj=mrg_data[mrg_data[\"city\"]==\"New York-Newark-Jersey City, NY-NJ-PA MSA\"][\"total_pay\"].reset_index(drop=True)\n",
    "income_ny_nj=income_ny_nj.dropna()\n",
    "print(income_ny_nj.mean())\n",
    "print(income_ny_nj)\n",
    "income_not_ny_nj=mrg_data[mrg_data[\"city\"]!=\"New York-Newark-Jersey City, NY-NJ-PA MSA\"][\"total_pay\"].reset_index(drop=True)\n",
    "income_not_ny_nj=income_not_ny_nj.dropna()\n",
    "print(income_not_ny_nj)\n",
    "print(income_not_ny_nj.mean())"
   ]
  },
  {
   "cell_type": "code",
   "execution_count": 63,
   "metadata": {},
   "outputs": [
    {
     "name": "stdout",
     "output_type": "stream",
     "text": [
      "valor p: 0.12580091109612837\n",
      "No podemos rechazar la hipótesis nula: las varianzas son iguales\n",
      "\n",
      "valor p: 0.043557431621342436\n",
      "Rechazamos la hipótesis nula\n"
     ]
    }
   ],
   "source": [
    "# Primero se realizará la prueba de Levene para evaluar la igualdad de varianzas de las muestras\n",
    "alpha= 0.05\n",
    "levene=st.levene(income_ny_nj,income_not_ny_nj)\n",
    "print(\"valor p:\",levene.pvalue)\n",
    "if levene.pvalue<alpha:\n",
    "    print(\"Rechazamos la hipótesis nula:las varianzas son diferentes\")\n",
    "else:\n",
    "    print(\"No podemos rechazar la hipótesis nula: las varianzas son iguales\")\n",
    "print()  \n",
    "results=st.ttest_ind(income_ny_nj,income_not_ny_nj,equal_var=True)\n",
    "print(\"valor p:\",results.pvalue)\n",
    "if results.pvalue<alpha:\n",
    "    print(\"Rechazamos la hipótesis nula\")\n",
    "else:\n",
    "    print(\"No podemos rechazar la hipótesis nula\")"
   ]
  },
  {
   "cell_type": "markdown",
   "metadata": {},
   "source": [
    "Con un nivel de significación de 0.05, los datos proporcionan evidencia suficiente para rechazar la hipótesis nula.Entonces, se puede conluir que el ingreso promedio de los usuarios del área de NY-NJ es diferente al de los usuarios de otras regiones."
   ]
  },
  {
   "cell_type": "markdown",
   "metadata": {},
   "source": [
    "## Conclusión general"
   ]
  },
  {
   "cell_type": "markdown",
   "metadata": {},
   "source": [
    "El objetivo de este proyecto fue analizar el comportamiento de los clientes y determinar qué tarifa genera más ingresos. Para ello se siguieron los siguientes pasos:\n",
    "1. Se importaron las librerías necesarias para el análisis y se cargaron los datos en dataframes distintos.\n",
    "\n",
    "2. Se transformaron las columnas que contenían fechas al tipo datetime para después poder extraer los meses y obtener el recuento mensual de las llamadas, mensajes y sesiones de internet. Además, se redondeó la duración de las llamadas y se transformó el consumo de internet de mg a gb para que coincida con la forma en la que la empresa calcula las tarifas totales.\n",
    "\n",
    "3. Se calculó la cantidad de llamadas, duración de las llamadas, cantidad de mensajes y tráfico de internet consumidos por cada usuario al mes. Luego de ello, se unieron los datos en un solo dataframe junto a la información de cada tarifa para determinar a qué plan pertenecía cada usuario y con dicha información calcular los ingresos de cada usuario al mes.\n",
    "\n",
    "4. Posteriormente, se analizó el comportamiento de los usuarios en cuanto a la duración promedio de las llamadas, la cantidad de mensajes, el consumo de internet y los ingresos que generan según el plan. Para ello, se trazaron gráficos de barras, histogramas, diagramas de caja y se calcularon las medias y varianza de cada grupo. Finalmente, se establecieron las hipótesis nula y alternativa para probar que existían diferencias significativas entre los ingresos promedio de cada plan y estas se probaron usando la prueba de t de student."
   ]
  },
  {
   "cell_type": "markdown",
   "metadata": {},
   "source": [
    "Una vez realizado el análisis de datos se llegó a las siguientes conclusiones:\n",
    "1. Dados los resultados de la prueba t de student y con una significancia de 0.05, se puede concluir que los ingresos promedio de los usuarios de los planes Surf y Ultimate difieren.\n",
    "\n",
    "2. Asimismo, los usuarios del plan Surf generan un ingreso promedio de 60 dólares y, según el diagrama de caja, tienen mayor cantidad de valores atípicos que los usuarios del plan Ultimate, lo cual indica que tienden a sobrepasar el valor base de la tarifa. Entonces, se podría decir que el plan Surf es el que le genera más ingresos a la empresa.\n",
    "\n",
    "3. Por su parte, el plan Ultimate generan un ingreso promedio de 72 dólares por usuario y los datos se concentran en su gran mayoría alrededor de ese valor, por lo que se concluye que difícilmente esos usuarios pagan cargos extra.\n",
    "\n",
    "4. En cuanto al comportamiento de los usuarios, los datos estadísticos demuestran que los usuarios del plan Surf tienden a consumir más internet de lo que está incluido en su tarifa mensual, con un consumo promedio de 16717 mb de internet.\n",
    "\n",
    "5. Respecto a la cantidad de mensajes enviados, se compararon las medianas de cada grupo de usuarios y se pudo concluir que los usuarios del plan Ultimate son quienes tienden a mandar más cantidad de mensajes. Sin embargo, ninguno de los dos grupos de usuarios tienden a superar la cantidad de mensajes incluida en sus tarifas.\n",
    "\n",
    "6. Finalmente, respecto a la duración de las llamadas, los datos demostraron que las medias de ambos grupos de usuarios son bastante cercanas, por lo que su comportamiento no difiere en ese aspecto.\n"
   ]
  }
 ],
 "metadata": {
  "kernelspec": {
   "display_name": "Python 3",
   "language": "python",
   "name": "python3"
  },
  "language_info": {
   "codemirror_mode": {
    "name": "ipython",
    "version": 3
   },
   "file_extension": ".py",
   "mimetype": "text/x-python",
   "name": "python",
   "nbconvert_exporter": "python",
   "pygments_lexer": "ipython3",
   "version": "3.12.1"
  }
 },
 "nbformat": 4,
 "nbformat_minor": 2
}
